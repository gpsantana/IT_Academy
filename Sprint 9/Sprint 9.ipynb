{
 "cells": [
  {
   "cell_type": "markdown",
   "metadata": {},
   "source": [
    "1. Calculadora de l'índex de massa corporal\n",
    "\n",
    "Escriu una funció que calculi l'IMC ingressat per l'usuari/ària, és a dir, qui ho executi haurà d'ingressar aquestes dades. Pots obtenir més informació del seu càlcul en: 🔗 Índice de masa corporal IMC que es y como se calcula.\n",
    "La funció ha de classificar el resultat en les seves respectives categories.\n",
    "Consell: Intenta validar les dades prèviament, perquè enviï un missatge d’advertència si les dades introduïdes per l’usuari/a no estan en el format adequat o no pren valors raonables"
   ]
  },
  {
   "cell_type": "code",
   "execution_count": 33,
   "metadata": {},
   "outputs": [
    {
     "name": "stdout",
     "output_type": "stream",
     "text": [
      "altura = 1.79\n",
      "peso = 78.0\n",
      "Peso normal/saludable, tu IMC es 24.34\n"
     ]
    }
   ],
   "source": [
    "def imc(altura,peso):\n",
    "    while True:\n",
    "        try:\n",
    "            if 0 < altura <= 2.5:\n",
    "                break\n",
    "            else:\n",
    "                print(\"Altura incorrecta, vuelve a intentarlo\")\n",
    "        except ValueError:\n",
    "            print(\"Dato incorrecto, utiliza numeros\")\n",
    "        \n",
    "\n",
    "    print(\"altura =\", altura)\n",
    "\n",
    "    while True:\n",
    "        try:\n",
    "            if 0 < peso <= 300:\n",
    "                break\n",
    "            else:\n",
    "                print(\"Ese peso no puede estar bien\")\n",
    "        except ValueError:\n",
    "                print(\"Dato incorrecto, vuelve a introducur tu peso\")\n",
    "\n",
    "    print(\"peso =\", peso)\n",
    "\n",
    "\n",
    "    imc = round(peso/(altura * altura),2)\n",
    "\n",
    "    if imc <= 18.5:\n",
    "        print (\"Peso insuficiente, tu IMC es\", imc)\n",
    "    elif imc <= 24.9:\n",
    "        print (\"Peso normal/saludable, tu IMC es\", imc)\n",
    "    elif imc <= 29.9:\n",
    "        print (\"Tines sobrepeso, tu IMC es de\", imc)\n",
    "    else:\n",
    "        print (\"Estás obeso, tu IMC es\", imc)\n",
    "\n",
    "altura = float(input(\"Introduce tu altura en Metros\").replace(',','.'))\n",
    "peso = float(input(\"introduce tu peso en Kg\").replace(',','.'))\n",
    "imc(altura,peso)"
   ]
  },
  {
   "cell_type": "markdown",
   "metadata": {},
   "source": [
    "2. Convertidor de temperatures\n",
    "\n",
    "Existeixen diverses unitats de temperatura utilitzades en diferents contextos i regions. Les més comunes són Celsius (°C), Fahrenheit (°F) i Kelvin (K). També existeixen altres unitats com Rankine (°Ra) i Réaumur (°Re).\n",
    "\n",
    "Selecciona almenys 2 conversors, de tal manera que en introduir una temperatura retorni, com a mínim, dues conversions, de manera que es puguin guardar (recorda que un print() no es pot guardar mai).\n",
    "\n",
    "Consell: Intenta validar les dades prèviament, perquè enviï un missatge d’advertència si les dades introduides per l’usuari/a no estan en el format adequat.\n",
    "\n",
    "(EXTRA): Pensa una manera d’emmagatzemar totes les possibles conversions en un sol objecte (Llista? Diccionari? DataFrame?) en comptes d’escriure molts if else en funció de la temperatura d’origen i la temperatura de destí."
   ]
  },
  {
   "cell_type": "code",
   "execution_count": 34,
   "metadata": {},
   "outputs": [
    {
     "name": "stdout",
     "output_type": "stream",
     "text": [
      "\n",
      " Qué tipo de medida es?:\n",
      "1. ºCelcius\n",
      "2. ºFarenheit\n",
      "3. Kelvin\n",
      "95.0 ºF\n",
      "308.0 K\n"
     ]
    }
   ],
   "source": [
    "while True:\n",
    "    try:\n",
    "        temp = float(input(\"Escribe los grados que quieres convertir\"))\n",
    "        break\n",
    "    except ValueError:\n",
    "        print (\"Escribe un numero\")\n",
    "    \n",
    "while True:\n",
    "    print(\"\\n Qué tipo de medida es?:\")\n",
    "    print(\"1. ºCelcius\")\n",
    "    print(\"2. ºFarenheit\")\n",
    "    print(\"3. Kelvin\")\n",
    "    opcion = input(\"Elige una opción: \")\n",
    "     \n",
    "    \n",
    "    if opcion == \"1\":\n",
    "        k = temp + 273\n",
    "        break\n",
    "    elif opcion == \"2\":\n",
    "        k = ((temp - 32)/1.8) + 273\n",
    "        break\n",
    "    elif opcion == \"3\":\n",
    "        k = temp\n",
    "        break\n",
    "    else:\n",
    "        print(\"Esa opcion no es valida\")\n",
    "     \n",
    "    \n",
    "\n",
    "conversor = {\n",
    "    \"C\" : k - 273,\n",
    "    \"F\" : ((k - 273)*1.8) +32,\n",
    "    \"K\" : k\n",
    "}\n",
    "\n",
    "if opcion == \"1\":\n",
    "    print (conversor[\"F\"],\"ºF\"),print(conversor[\"K\"],\"K\")\n",
    "elif opcion == \"2\":\n",
    "    print (conversor[\"C\"],\"ºC\"), print(conversor[\"K\"],\"K\")\n",
    "elif opcion == \"3\":\n",
    "    print (conversor[\"C\"],\"ºC\"), print(conversor[\"F\"],\"ºF\")\n",
    "\n"
   ]
  },
  {
   "cell_type": "markdown",
   "metadata": {},
   "source": [
    "3. Comptador de paraules d'un text.\n",
    "\n",
    "Escriu una funció que donat un text, mostri les vegades que apareix cada paraula. Intenta que es gestionin totes les casuístiques possibles que facin que el programa no funcioni correctament.\n",
    "\n",
    "(EXTRA): Quina és la llargada mitjana de les paraules del text que has escrit? “Hola com va?” hauria de retornar (4+3+2) / 3 = 3"
   ]
  },
  {
   "cell_type": "code",
   "execution_count": 35,
   "metadata": {},
   "outputs": [
    {
     "name": "stdout",
     "output_type": "stream",
     "text": [
      "{'hola': 3, 'bla': 2, 'ahh': 1, 'muy': 1, 'bien': 1}\n",
      "la longitud media de las palabras es 3.5\n"
     ]
    }
   ],
   "source": [
    "def analisis(texto):\n",
    "    texto = texto.lower()\n",
    "    signos = \"!¡,.;:?¿()[]{}-_\"\n",
    "    txt = \"\"\n",
    "    for c in texto:\n",
    "        if c not in signos:\n",
    "            txt += c\n",
    "\n",
    "\n",
    "    palabras = txt.split()\n",
    "\n",
    "    diccionario = {}\n",
    "\n",
    "    for x in palabras:\n",
    "        if x in diccionario:\n",
    "            diccionario[x] += 1\n",
    "        else:\n",
    "            diccionario[x] = 1\n",
    "\n",
    "    print(diccionario)\n",
    "\n",
    "    y=0\n",
    "    \n",
    "    for p in (palabras):\n",
    "        y+= len(p)\n",
    "    \n",
    "    media = y / len(palabras)\n",
    "\n",
    "    print(\"la longitud media de las palabras es\",media)\n",
    "   \n",
    "\n",
    "\n",
    "texto = input(\"Escribe un texto o frase\")\n",
    "analisis(texto)\n"
   ]
  },
  {
   "cell_type": "markdown",
   "metadata": {},
   "source": [
    "4. Diccionari invers (amb possibilitat de duplicats)\n",
    "\n",
    "Resulta que el client té una enquesta molt antiga que s'emmagatzema en un diccionari i els resultats els necessita al revés, és a dir, intercanviant les claus i els valors. Els valors i claus en el diccionari original són únics; si aquest no és el cas, la funció hauria d'imprimir un missatge d'advertiment, juntament amb una llista amb els valors associats a la clau repetida."
   ]
  },
  {
   "cell_type": "code",
   "execution_count": 41,
   "metadata": {},
   "outputs": [
    {
     "name": "stdout",
     "output_type": "stream",
     "text": [
      "hay valores repetidos\n",
      "8 ['c', 'd']\n",
      "{1: ['a'], 5: ['b'], 8: ['c', 'd']}\n"
     ]
    }
   ],
   "source": [
    "diccionario = {\n",
    "    \"a\":1,\n",
    "    \"b\":5,\n",
    "    \"c\":8,\n",
    "    \"d\":8\n",
    "}\n",
    "\n",
    "\n",
    "\n",
    "def diccionarioinvertido(diccionario):\n",
    "    delreves = {}\n",
    "\n",
    "    for clave, valor in diccionario.items():\n",
    "        if valor in delreves:\n",
    "            delreves[valor].append(clave)\n",
    "        else:\n",
    "            delreves[valor]=[clave]\n",
    "\n",
    "    repes = any(len(clave)!=1 for clave in delreves.values())       \n",
    "\n",
    "    if repes:\n",
    "        print(\"hay valores repetidos\")\n",
    "        for valor,clave in delreves.items():\n",
    "            if len(clave)!= 1:\n",
    "                print(valor,clave)\n",
    "\n",
    "    print(delreves)\n",
    "\n",
    "diccionarioinvertido(diccionario)"
   ]
  },
  {
   "cell_type": "markdown",
   "metadata": {},
   "source": [
    "El client va quedar content amb el comptador de paraules, però ara vol llegir arxius TXT i que calculi la freqüència de cada paraula ordenades dins de les entrades habituals del diccionari segons la lletra amb la qual comencen, és a dir, les claus han d'anar de la A a la Z i dins de la A hem d'anar de la A la Z. Per exemple, per a l'arxiu \"tu_me_quieres_blanca.txt\" la sortida esperada seria:"
   ]
  },
  {
   "cell_type": "code",
   "execution_count": 37,
   "metadata": {},
   "outputs": [
    {
     "name": "stdout",
     "output_type": "stream",
     "text": [
      "a {'a': 3, 'agua': 1, 'al': 2, 'alba': 4, 'alcobas': 1, 'alimenta': 1, 'alma': 1, 'amarga': 1, 'azucena': 1}\n",
      "b {'baco': 1, 'banquete': 1, 'bebe': 1, 'blanca': 3, 'boca': 1, 'bosques': 1, 'buen': 1}\n",
      "c {'cabañas': 1, 'carnes': 2, 'casta': 3, 'cerrada': 1, 'con': 4, 'conservas': 1, 'copas': 1, 'corola': 1, 'corriste': 1, 'cuando': 2, 'cubierto': 1, 'cuerpo': 1, 'cuáles': 1}\n",
      "d {'de': 8, 'dejaste': 1, 'del': 1, 'diga': 1, 'dios': 2, 'duerme': 1}\n",
      "e {'el': 4, 'ellas': 1, 'en': 4, 'engaño': 1, 'enredada': 1, 'entonces': 1, 'escarcha': 1, 'espumas': 1, 'esqueleto': 1, 'estrago': 1}\n",
      "f {'festejando': 1, 'filtrado': 1, 'frutos': 1}\n",
      "h {'habla': 1, 'hacia': 1, 'haya': 1, 'hayas': 1, 'hermana': 1, 'hombre': 1, 'hubiste': 1, 'huye': 1}\n",
      "i {'intacto': 1}\n",
      "j {'jardines': 1}\n",
      "l {'la': 3, 'labios': 1, 'las': 7, 'lo': 2, 'los': 4, 'luna': 1, 'lévate': 1, 'límpiate': 1}\n",
      "m {'mano': 1, 'manos': 1, 'margarita': 1, 'me': 10, 'mi': 1, 'mieles': 1, 'milagros': 1, 'mojada': 1, 'montaña': 1, 'morados': 1}\n",
      "n {'negros': 1, 'ni': 2, 'no': 1, 'nácar': 1, 'nívea': 2}\n",
      "p {'perdone': 2, 'perfume': 1, 'por': 2, 'pretendes': 3, 'preténdeme': 3, 'puesto': 1, 'pájaros': 1, 'pámpanos': 1}\n",
      "q {'que': 6, 'quedó': 1, 'quieres': 6}\n",
      "r {'rayo': 1, 'raíz': 1, 'renueva': 1, 'rocas': 1, 'rojo': 1}\n",
      "s {'salitre': 1, 'se': 2, 'sea': 1, 'sean': 1, 'sobre': 2, 'sé': 1}\n",
      "t {'te': 3, 'tejidos': 1, 'tenue': 1, 'tierra': 1, 'toca': 1, 'todas': 2, 'todavía': 1, 'tornadas': 1, 'tú': 8}\n",
      "u {'un': 1, 'una': 1}\n",
      "v {'vestido': 1, 'vete': 1, 'vive': 1}\n",
      "y {'y': 5}\n"
     ]
    }
   ],
   "source": [
    "\n",
    "def ordenar(texto):\n",
    "    with open(\"/Users/gabrielpsantana/Documents/IT_ACADEMY/Sprint 9/tu me quieres blanca.txt\",\"r\",encoding=\"utf-8\") as f:\n",
    "        texto=f.read()\n",
    "\n",
    "    signos = \"!¡,.;:?¿()[]{}-_\"\n",
    "    txt = \"\"\n",
    "    for c in texto:\n",
    "        if c not in signos:\n",
    "            txt += c\n",
    "\n",
    "\n",
    "    palabras = txt.lower().split()\n",
    "\n",
    "    contador = {}\n",
    "\n",
    "    for x in palabras:\n",
    "        if x in contador:\n",
    "            contador[x] += 1\n",
    "        else:\n",
    "            contador[x] = 1\n",
    "\n",
    "    orden = list(contador.keys())\n",
    "\n",
    "    for y in range(len(orden)):\n",
    "        for z in range(y + 1,len(orden)):\n",
    "            if orden[y]> orden[z]:\n",
    "                orden[y],orden[z]=orden[z],orden[y]\n",
    "\n",
    "    diccionario = {}\n",
    "\n",
    "    for palabra in orden:\n",
    "        letra = palabra[0]\n",
    "        if letra not in diccionario:\n",
    "            diccionario[letra]={}\n",
    "\n",
    "        diccionario[letra][palabra]=contador[palabra]\n",
    "\n",
    "    \n",
    "\n",
    "    for clave , valor in diccionario.items():\n",
    "        print(clave,valor)\n",
    "\n",
    "\n",
    "ordenar(texto)"
   ]
  },
  {
   "cell_type": "markdown",
   "metadata": {},
   "source": [
    "El client rep una llista de dades i necessita generar dues llistes, la primera on estaran tots els elements que es van poder convertir en flotants i l'altra on estan els elements que no es van poder convertir. Exemple de la llista que rep el client:"
   ]
  },
  {
   "cell_type": "code",
   "execution_count": 38,
   "metadata": {},
   "outputs": [
    {
     "name": "stdout",
     "output_type": "stream",
     "text": [
      "[1.3, 10000000000.0, 2.0, 1.0, 1.4, 1.0, 2.0, 3.0, 3.4]\n",
      "['one', 'seven', '3-1/2', 'not-a-number']\n"
     ]
    }
   ],
   "source": [
    "def convdatos(lista):\n",
    "    \n",
    "    numeros=[]\n",
    "    notnumeros=[]\n",
    "\n",
    "    def recorrer(variable):\n",
    "        try:\n",
    "            num = float(variable)\n",
    "            numeros.append(num)\n",
    "        except (ValueError,TypeError):\n",
    "            if isinstance(variable,(list,tuple)):\n",
    "                for elemento in variable:\n",
    "                    recorrer(elemento)\n",
    "            else:\n",
    "                notnumeros.append(variable)\n",
    "\n",
    "    recorrer(lista)\n",
    "\n",
    "\n",
    "    \n",
    "    print(numeros)\n",
    "    print(notnumeros)\n",
    "\n",
    "\n",
    "\n",
    "lista=[ '1.3', 'one' , '1e10' , 'seven', '3-1/2', ('2',1,1.4,'not-a-number'), [1,2,'3','3.4']]\n",
    "convdatos(lista)"
   ]
  },
  {
   "cell_type": "markdown",
   "metadata": {},
   "source": [
    "En aquest punt, el client ha detectat un problema amb les contrasenyes que utilitzen els seus treballadors. Asdf1234, dates d’aniversari o similars. Per a solucionar-ho ens ha encarregat una funció de Python que generi contrasenyes més segures. La funció ha de dependre dels següents paràmetres:\n",
    "\n",
    "longitud (int): Longitud de la contrasenya\n",
    "majuscules (bool = True): Si hi ha d’aparèixer majúscules\n",
    "minuscules (bool = True): Si hi ha d’aparèixer minúscules\n",
    "numeros (bool = True): Si hi ha d’aparèixer números\n",
    "signes (bool = False): Si hi ha d’aparèixer caràcters especials (,-$? o similars)\n"
   ]
  },
  {
   "cell_type": "code",
   "execution_count": 42,
   "metadata": {},
   "outputs": [
    {
     "name": "stdout",
     "output_type": "stream",
     "text": [
      "Qd_JcSja)(\n"
     ]
    }
   ],
   "source": [
    "from random import sample\n",
    "\n",
    "def contraseña(x):\n",
    "        \n",
    "    if not (4<=x<=12):\n",
    "        print(\"tiene que tener entre 4 y 12 caracteres\")\n",
    "        return None\n",
    "        \n",
    "        \n",
    "    minusculas = \"abcdefghijklmnopqrstuvwxyz\"\n",
    "    mayusculas = minusculas.upper()\n",
    "    numeros = \"0123456789\"\n",
    "    simbolos = \".,!$%&/()*?[]-_}{\"\n",
    "\n",
    "    opciones=[(\"letras minusculas\",minusculas),\n",
    "              (\"letras mayusculas\",mayusculas),\n",
    "              (\"numeros\", numeros),\n",
    "              (\"simbolos\",simbolos)]\n",
    "\n",
    "    \n",
    "    seleccion= \"\"\n",
    "\n",
    "    for clave, valor in opciones:\n",
    "        while True:\n",
    "            entrada = input(f\"¿Quieres incluir {clave}? (True/False): \").strip().lower()\n",
    "            if entrada in (\"true\",\"false\"):\n",
    "                break\n",
    "            print(\"Escribe true or false\")\n",
    "\n",
    "        if entrada == \"true\":\n",
    "            seleccion += valor\n",
    "\n",
    "    if not seleccion:\n",
    "        print(\"Debes seleccionar al menos una opción para generar la contraseña.\")\n",
    "        return None\n",
    "\n",
    "    if x > len(seleccion):\n",
    "        print(\"No hay suficientes caracteres únicos para generar la contraseña con esa longitud.\")\n",
    "        return None\n",
    "\n",
    "    password = sample(seleccion, x)\n",
    "    return \"\".join(password)\n",
    "\n",
    "              \n",
    "try:\n",
    "    x = int(input(\"escribe la cantidad de caracteres que quieres utilizar para tu contraseña\"))\n",
    "    password=contraseña(x)\n",
    "    print(password)\n",
    "except ValueError:\n",
    "     print(\"Debes escribir un numero entero entre 4 y 12\")\n",
    "    \n",
    "\n",
    "\n"
   ]
  },
  {
   "cell_type": "markdown",
   "metadata": {},
   "source": [
    "Una companya de feina ens ha demanat un favor, aprofitant que sap que estem aprenent a programar. Té un històric de partits de futbol català en un fitxer, on hi ha emmagatzemat els noms dels equips i els resultats. Necessita que processem les dades de manera automàtica, per extreure’n els resultats que necessita.\n",
    "\n",
    "Utilitza el fitxer \"historic_partits.txt\"\n",
    "\n",
    "Necessita un programa que retorni:\n",
    "\n",
    "El nombre total de gols que ha fet cada equip.\n",
    "El nom de l’equip més golejador.\n",
    "El nom de l’equip més golejat\n",
    "La classificació global (cada victòria: 3 pts, empat 1 pts, derrota 0 pts)\n"
   ]
  },
  {
   "cell_type": "code",
   "execution_count": 40,
   "metadata": {},
   "outputs": [
    {
     "data": {
      "text/plain": [
       "([('Girona FC', {'a_favor': 139, 'contra': 94, 'puntos': 96}),\n",
       "  ('Llagostera', {'a_favor': 159, 'contra': 142, 'puntos': 94}),\n",
       "  ('Sabadell', {'a_favor': 141, 'contra': 121, 'puntos': 85}),\n",
       "  ('Cornellà', {'a_favor': 147, 'contra': 146, 'puntos': 82}),\n",
       "  ('RCD Espanyol', {'a_favor': 131, 'contra': 144, 'puntos': 80}),\n",
       "  ('Figueres', {'a_favor': 161, 'contra': 154, 'puntos': 79}),\n",
       "  ('Lleida Esportiu', {'a_favor': 129, 'contra': 133, 'puntos': 75}),\n",
       "  ('Terrassa', {'a_favor': 147, 'contra': 164, 'puntos': 74}),\n",
       "  ('FC Barcelona', {'a_favor': 125, 'contra': 115, 'puntos': 73}),\n",
       "  ('Vilafranca', {'a_favor': 157, 'contra': 172, 'puntos': 72}),\n",
       "  ('Badalona', {'a_favor': 134, 'contra': 124, 'puntos': 68}),\n",
       "  ('Reus Deportiu', {'a_favor': 119, 'contra': 111, 'puntos': 68}),\n",
       "  ('Nàstic de Tarragona', {'a_favor': 130, 'contra': 148, 'puntos': 68}),\n",
       "  ('Granollers', {'a_favor': 122, 'contra': 117, 'puntos': 67}),\n",
       "  ('Olot', {'a_favor': 132, 'contra': 144, 'puntos': 64}),\n",
       "  ('Sant Andreu', {'a_favor': 123, 'contra': 134, 'puntos': 62}),\n",
       "  ('Manlleu', {'a_favor': 106, 'contra': 118, 'puntos': 57}),\n",
       "  ('Prat', {'a_favor': 106, 'contra': 111, 'puntos': 56}),\n",
       "  ('Cerdanyola', {'a_favor': 117, 'contra': 133, 'puntos': 56}),\n",
       "  ('Europa', {'a_favor': 93, 'contra': 93, 'puntos': 41})],\n",
       " ('Figueres', {'a_favor': 161, 'contra': 154, 'puntos': 79}),\n",
       " ('Vilafranca', {'a_favor': 157, 'contra': 172, 'puntos': 72}))"
      ]
     },
     "execution_count": 40,
     "metadata": {},
     "output_type": "execute_result"
    }
   ],
   "source": [
    "def ordenar():\n",
    "        with open(\"/Users/gabrielpsantana/Documents/IT_ACADEMY/Sprint 9/historic partits.txt\",\"r\",encoding=\"utf-8\") as f:\n",
    "                partidos=f.readlines()\n",
    "\n",
    "        equipos={}\n",
    "\n",
    "        for partido in partidos:\n",
    "                equipo1, marcador, equipo2 = partido.strip().split('\\t')\n",
    "                goles1, goles2 = map(int, marcador.split('-'))\n",
    "\n",
    "                if equipo1 not in equipos:\n",
    "                        equipos[equipo1]={\"a_favor\": 0, \"contra\":0, \"puntos\":0}\n",
    "                if equipo2 not in equipos:\n",
    "                        equipos[equipo2]={\"a_favor\": 0, \"contra\":0, \"puntos\":0}\n",
    "\n",
    "                equipos[equipo1][\"a_favor\"] += goles1\n",
    "                equipos[equipo1][\"contra\"] += goles2\n",
    "\n",
    "                equipos[equipo2][\"a_favor\"] += goles2\n",
    "                equipos[equipo2][\"contra\"] += goles1\n",
    "\n",
    "                if goles1 > goles2:\n",
    "                        equipos[equipo1][\"puntos\"] += 3\n",
    "                elif goles1 < goles2:\n",
    "                        equipos[equipo2][\"puntos\"] +=3\n",
    "                else:\n",
    "                        equipos[equipo1][\"puntos\"] +=1\n",
    "                        equipos[equipo2][\"puntos\"] +=1\n",
    "\n",
    "        max_goles = 0\n",
    "        goleador = None\n",
    "\n",
    "        for clave, valor in equipos.items():\n",
    "                if valor[\"a_favor\"] > max_goles:\n",
    "                        max_goles = valor[\"a_favor\"]\n",
    "                        goleador = (clave,valor)\n",
    "        \n",
    "        max_contra =0\n",
    "        goleado = None\n",
    "\n",
    "        for clave, valor in equipos.items():\n",
    "                if valor[\"contra\"] > max_contra:\n",
    "                        max_contra = valor[\"contra\"]\n",
    "                        goleado = (clave,valor)\n",
    "\n",
    "        clasificacion = sorted(equipos.items(), key = lambda x:x[1][\"puntos\"],reverse = True)\n",
    "\n",
    "\n",
    "        return clasificacion, goleador,goleado\n",
    "        \n",
    "        \n",
    "ordenar()\n"
   ]
  }
 ],
 "metadata": {
  "kernelspec": {
   "display_name": "Python 3",
   "language": "python",
   "name": "python3"
  },
  "language_info": {
   "codemirror_mode": {
    "name": "ipython",
    "version": 3
   },
   "file_extension": ".py",
   "mimetype": "text/x-python",
   "name": "python",
   "nbconvert_exporter": "python",
   "pygments_lexer": "ipython3",
   "version": "3.13.5"
  }
 },
 "nbformat": 4,
 "nbformat_minor": 2
}
